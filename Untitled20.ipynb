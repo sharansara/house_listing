{
  "nbformat": 4,
  "nbformat_minor": 0,
  "metadata": {
    "colab": {
      "provenance": []
    },
    "kernelspec": {
      "name": "python3",
      "display_name": "Python 3"
    },
    "language_info": {
      "name": "python"
    }
  },
  "cells": [
    {
      "cell_type": "code",
      "execution_count": 210,
      "metadata": {
        "id": "yfOsoNIoYv1b"
      },
      "outputs": [],
      "source": [
        "import pandas as pd\n",
        "import numpy as np\n",
        "import matplotlib.pyplot as plt\n",
        "import seaborn as sns\n",
        "from sklearn.preprocessing import StandardScaler, OneHotEncoder\n",
        "from sklearn.compose import ColumnTransformer\n",
        "from sklearn.model_selection import train_test_split\n",
        "from sklearn.pipeline import Pipeline\n",
        "from sklearn.model_selection import train_test_split\n",
        "from sklearn.linear_model import LinearRegression, Lasso, Ridge, ElasticNet\n",
        "from sklearn.metrics import mean_squared_error, r2_score\n",
        "from sklearn.neural_network import MLPRegressor\n",
        "import pickle\n",
        "from scipy.sparse import csr_matrix\n"
      ]
    },
    {
      "cell_type": "code",
      "source": [
        "# Load the dataset\n",
        "data = pd.read_csv(\"/content/HouseListings-Top45Cities-10292023-kaggle.csv\", encoding='ISO-8859-1')\n"
      ],
      "metadata": {
        "id": "bmacD6hjZ_LX"
      },
      "execution_count": 211,
      "outputs": []
    },
    {
      "cell_type": "code",
      "source": [
        "# EDA\n",
        "print(data.head())  # Display the first few rows of the dataset\n"
      ],
      "metadata": {
        "colab": {
          "base_uri": "https://localhost:8080/"
        },
        "id": "_ViNyuyzbDmu",
        "outputId": "5a29811a-e5d9-4f7a-90b4-a1accac204c6"
      },
      "execution_count": 166,
      "outputs": [
        {
          "output_type": "stream",
          "name": "stdout",
          "text": [
            "      City      Price                  Address  Number_Beds  Number_Baths  \\\n",
            "0  Toronto   779900.0    #318 -20 SOUTHPORT ST            3             2   \n",
            "1  Toronto   799999.0    #818 -60 SOUTHPORT ST            3             1   \n",
            "2  Toronto   799900.0  #714 -859 THE QUEENSWAY            2             2   \n",
            "3  Toronto  1200000.0         275 MORTIMER AVE            4             2   \n",
            "4  Toronto   668800.0    #420 -388 RICHMOND ST            1             1   \n",
            "\n",
            "  Province  Population  Latitude  Longitude  Median_Family_Income  \n",
            "0  Ontario     5647656   43.7417   -79.3733               97000.0  \n",
            "1  Ontario     5647656   43.7417   -79.3733               97000.0  \n",
            "2  Ontario     5647656   43.7417   -79.3733               97000.0  \n",
            "3  Ontario     5647656   43.7417   -79.3733               97000.0  \n",
            "4  Ontario     5647656   43.7417   -79.3733               97000.0  \n"
          ]
        }
      ]
    },
    {
      "cell_type": "code",
      "source": [
        "print(data.info())  # Display information about the dataset\n"
      ],
      "metadata": {
        "colab": {
          "base_uri": "https://localhost:8080/"
        },
        "id": "RrjAVupebH5N",
        "outputId": "11ee42ef-08f9-4937-e3ff-d60c6b2b71a1"
      },
      "execution_count": 167,
      "outputs": [
        {
          "output_type": "stream",
          "name": "stdout",
          "text": [
            "<class 'pandas.core.frame.DataFrame'>\n",
            "RangeIndex: 35768 entries, 0 to 35767\n",
            "Data columns (total 10 columns):\n",
            " #   Column                Non-Null Count  Dtype  \n",
            "---  ------                --------------  -----  \n",
            " 0   City                  35768 non-null  object \n",
            " 1   Price                 35768 non-null  float64\n",
            " 2   Address               35768 non-null  object \n",
            " 3   Number_Beds           35768 non-null  int64  \n",
            " 4   Number_Baths          35768 non-null  int64  \n",
            " 5   Province              35768 non-null  object \n",
            " 6   Population            35768 non-null  int64  \n",
            " 7   Latitude              35768 non-null  float64\n",
            " 8   Longitude             35768 non-null  float64\n",
            " 9   Median_Family_Income  35768 non-null  float64\n",
            "dtypes: float64(4), int64(3), object(3)\n",
            "memory usage: 2.7+ MB\n",
            "None\n"
          ]
        }
      ]
    },
    {
      "cell_type": "code",
      "source": [
        "print(data.describe())  # Display summary statistics of numerical features\n"
      ],
      "metadata": {
        "colab": {
          "base_uri": "https://localhost:8080/"
        },
        "id": "EVb9kcFfbKLp",
        "outputId": "85968d56-75a6-43a1-dc7e-141cc10bbe91"
      },
      "execution_count": 168,
      "outputs": [
        {
          "output_type": "stream",
          "name": "stdout",
          "text": [
            "              Price   Number_Beds  Number_Baths    Population      Latitude  \\\n",
            "count  3.576800e+04  35768.000000  35768.000000  3.576800e+04  35768.000000   \n",
            "mean   9.432963e+05      3.283661      2.532403  6.360151e+05     47.446556   \n",
            "std    1.020110e+06      1.730654      1.371910  1.120016e+06      3.333855   \n",
            "min    2.150000e+04      0.000000      0.000000  6.338200e+04     42.283300   \n",
            "25%    4.599000e+05      2.000000      2.000000  1.091670e+05     43.866700   \n",
            "50%    6.990000e+05      3.000000      2.000000  2.424600e+05     49.025000   \n",
            "75%    1.095000e+06      4.000000      3.000000  5.228880e+05     49.888100   \n",
            "max    3.700000e+07    109.000000     59.000000  5.647656e+06     53.916900   \n",
            "\n",
            "          Longitude  Median_Family_Income  \n",
            "count  35768.000000          35768.000000  \n",
            "mean     -98.421636          89643.103416  \n",
            "std       22.280935          12132.353510  \n",
            "min     -123.936400          62400.000000  \n",
            "25%     -122.316700          82000.000000  \n",
            "50%     -104.606700          89000.000000  \n",
            "75%      -79.866700          97000.000000  \n",
            "max       63.100500         133000.000000  \n"
          ]
        }
      ]
    },
    {
      "cell_type": "code",
      "source": [
        "print(data.isnull().sum())  # Check for missing values"
      ],
      "metadata": {
        "colab": {
          "base_uri": "https://localhost:8080/"
        },
        "id": "Z_JVYXWrbQUu",
        "outputId": "f6d839dc-c592-4b8d-ae4b-c25ca606fd82"
      },
      "execution_count": 169,
      "outputs": [
        {
          "output_type": "stream",
          "name": "stdout",
          "text": [
            "City                    0\n",
            "Price                   0\n",
            "Address                 0\n",
            "Number_Beds             0\n",
            "Number_Baths            0\n",
            "Province                0\n",
            "Population              0\n",
            "Latitude                0\n",
            "Longitude               0\n",
            "Median_Family_Income    0\n",
            "dtype: int64\n"
          ]
        }
      ]
    },
    {
      "cell_type": "code",
      "source": [
        "# Check for outliers\n",
        "sns.boxplot(data=data[['Price', 'Number_Beds', 'Number_Baths', 'Population', 'Median_Family_Income']])\n",
        "plt.show()"
      ],
      "metadata": {
        "colab": {
          "base_uri": "https://localhost:8080/",
          "height": 445
        },
        "id": "BJlbyOgbbVHS",
        "outputId": "623528c7-8d41-4740-e0e7-9aacb9b09763"
      },
      "execution_count": 170,
      "outputs": [
        {
          "output_type": "display_data",
          "data": {
            "text/plain": [
              "<Figure size 640x480 with 1 Axes>"
            ],
            "image/png": "[encoded data removed]"
          },
          "metadata": {}
        }
      ]
    },
    {
      "cell_type": "code",
      "source": [
        "# Check for infinity or very large values\n",
        "large_values_cols = []\n",
        "for col in data.columns:\n",
        "    if data[col].dtype in [np.float64, np.int64]:\n",
        "        if (data[col].abs() > 1e10).any():\n",
        "            large_values_cols.append(col)\n",
        "\n",
        "print(\"Columns with very large values (>1e10):\", large_values_cols)\n"
      ],
      "metadata": {
        "colab": {
          "base_uri": "https://localhost:8080/"
        },
        "id": "GYAHvNZ_3HT_",
        "outputId": "baf7e2d3-c820-43ef-9646-a0e33fcd11fc"
      },
      "execution_count": 171,
      "outputs": [
        {
          "output_type": "stream",
          "name": "stdout",
          "text": [
            "Columns with very large values (>1e10): []\n"
          ]
        }
      ]
    },
    {
      "cell_type": "code",
      "source": [
        "# Feature Engineering\n",
        "data['Price_per_Bedroom'] = data['Price'] / data['Number_Beds']\n"
      ],
      "metadata": {
        "id": "ZGRbxKIP2Ogq"
      },
      "execution_count": 172,
      "outputs": []
    },
    {
      "cell_type": "code",
      "source": [
        "# Replace very large values in 'Price_per_Bedroom' with the median value\n",
        "median_price_per_bedroom = data['Price_per_Bedroom'].median()\n",
        "data['Price_per_Bedroom'] = data['Price_per_Bedroom'].apply(lambda x: median_price_per_bedroom if x > 1e10 else x)"
      ],
      "metadata": {
        "id": "rxSPnIk5BdkN"
      },
      "execution_count": 173,
      "outputs": []
    },
    {
      "cell_type": "code",
      "source": [
        "# Define categorical and numerical features\n",
        "categorical_features = ['City', 'Province']\n",
        "numerical_features = ['Price', 'Number_Beds', 'Number_Baths', 'Population', 'Median_Family_Income', 'Price_per_Bedroom']\n"
      ],
      "metadata": {
        "id": "-3W95uFNbnGe"
      },
      "execution_count": 174,
      "outputs": []
    },
    {
      "cell_type": "code",
      "source": [
        "# Encode categorical variables\n",
        "categorical_transformer = OneHotEncoder(handle_unknown='ignore')\n",
        "# Scale numerical features\n",
        "numerical_transformer = StandardScaler()\n"
      ],
      "metadata": {
        "id": "N2aMX6KR6N7a"
      },
      "execution_count": 175,
      "outputs": []
    },
    {
      "cell_type": "code",
      "source": [
        "# Define preprocessor\n",
        "preprocessor = ColumnTransformer(\n",
        "    transformers=[\n",
        "        ('cat', categorical_transformer, categorical_features),\n",
        "        ('num', numerical_transformer, numerical_features)\n",
        "    ])\n"
      ],
      "metadata": {
        "id": "amiPtOGtynOF"
      },
      "execution_count": 176,
      "outputs": []
    },
    {
      "cell_type": "code",
      "source": [
        "# Apply scaling to the 'Price_per_Bedroom' column\n",
        "price_per_bedroom_scaler = StandardScaler()\n",
        "data['Price_per_Bedroom_scaled'] = price_per_bedroom_scaler.fit_transform(data[['Price_per_Bedroom']])"
      ],
      "metadata": {
        "id": "LedVRyrdyr76"
      },
      "execution_count": 177,
      "outputs": []
    },
    {
      "cell_type": "code",
      "source": [
        "# Define the pipeline\n",
        "pipeline = Pipeline(steps=[('preprocessor', preprocessor)])\n",
        "\n",
        "# Fit and transform the data\n",
        "processed_data = pipeline.fit_transform(data)"
      ],
      "metadata": {
        "id": "TIhgmQ-BywUl"
      },
      "execution_count": 178,
      "outputs": []
    },
    {
      "cell_type": "code",
      "source": [
        "print(processed_data)"
      ],
      "metadata": {
        "colab": {
          "base_uri": "https://localhost:8080/"
        },
        "id": "QdlyR0dWCOhs",
        "outputId": "37b5454b-d2e8-4058-ccc1-09fbf6f84ce5"
      },
      "execution_count": 179,
      "outputs": [
        {
          "output_type": "stream",
          "name": "stdout",
          "text": [
            "  (0, 38)\t1.0\n",
            "  (0, 51)\t1.0\n",
            "  (0, 54)\t-0.16017731116224812\n",
            "  (0, 55)\t-0.163906466698614\n",
            "  (0, 56)\t-0.38807976839474945\n",
            "  (0, 57)\t4.474679497031687\n",
            "  (0, 58)\t0.6063950758917838\n",
            "  (0, 59)\t-0.14767470751371356\n",
            "  (1, 38)\t1.0\n",
            "  (1, 51)\t1.0\n",
            "  (1, 54)\t-0.14047426570462895\n",
            "  (1, 55)\t-0.163906466698614\n",
            "  (1, 56)\t-1.117000482354913\n",
            "  (1, 57)\t4.474679497031687\n",
            "  (1, 58)\t0.6063950758917838\n",
            "  (1, 59)\t-0.12346062076554885\n",
            "  (2, 38)\t1.0\n",
            "  (2, 51)\t1.0\n",
            "  (2, 54)\t-0.1405713153837326\n",
            "  (2, 55)\t-0.7417308803469508\n",
            "  (2, 56)\t-0.38807976839474945\n",
            "  (2, 57)\t4.474679497031687\n",
            "  (2, 58)\t0.6063950758917838\n",
            "  (2, 59)\t0.3582562208853009\n",
            "  (3, 38)\t1.0\n",
            "  :\t:\n",
            "  (35764, 59)\t3.9654310970989193\n",
            "  (35765, 9)\t1.0\n",
            "  (35765, 50)\t1.0\n",
            "  (35765, 54)\t-0.5130852351755273\n",
            "  (35765, 55)\t-0.7417308803469508\n",
            "  (35765, 56)\t-0.38807976839474945\n",
            "  (35765, 57)\t-0.1826215165812445\n",
            "  (35765, 58)\t-0.2382179035222297\n",
            "  (35765, 59)\t-0.32844607507240414\n",
            "  (35766, 9)\t1.0\n",
            "  (35766, 50)\t1.0\n",
            "  (35766, 54)\t0.0064736529551337125\n",
            "  (35766, 55)\t-0.163906466698614\n",
            "  (35766, 56)\t-1.117000482354913\n",
            "  (35766, 57)\t-0.1826215165812445\n",
            "  (35766, 58)\t-0.2382179035222297\n",
            "  (35766, 59)\t0.05713124040349667\n",
            "  (35767, 9)\t1.0\n",
            "  (35767, 50)\t1.0\n",
            "  (35767, 54)\t-0.3434933716913681\n",
            "  (35767, 55)\t-0.7417308803469508\n",
            "  (35767, 56)\t-1.117000482354913\n",
            "  (35767, 57)\t-0.1826215165812445\n",
            "  (35767, 58)\t-0.2382179035222297\n",
            "  (35767, 59)\t-0.015815819281133157\n"
          ]
        }
      ]
    },
    {
      "cell_type": "code",
      "source": [
        "# Split the data into training and testing sets\n",
        "X_train, X_test, y_train, y_test = train_test_split(processed_data, data['Price'], test_size=0.2, random_state=42)\n"
      ],
      "metadata": {
        "id": "aZ3ciu2_CquS"
      },
      "execution_count": 208,
      "outputs": []
    },
    {
      "cell_type": "code",
      "source": [
        "# Create a new dataset by taking one fourth of the original dataset\n",
        "new_data_indices = data.sample(frac=0.25, random_state=42).index\n",
        "\n",
        "# Convert csr_matrix objects back to pandas DataFrames\n",
        "X_train_df = pd.DataFrame.sparse.from_spmatrix(X_train)\n",
        "X_test_df = pd.DataFrame.sparse.from_spmatrix(X_test)\n",
        "\n",
        "X_train_new = X_train[~X_train_df.index.isin(new_data_indices)]\n",
        "X_test_new = X_test[~X_test_df.index.isin(new_data_indices)]\n",
        "y_test_new = y_test[~y_test.index.isin(new_data_indices)]\n"
      ],
      "metadata": {
        "id": "PLCmmYm1kEeZ"
      },
      "execution_count": 214,
      "outputs": []
    },
    {
      "cell_type": "code",
      "source": [
        "# Linear Regression\n",
        "linear_reg = LinearRegression()\n",
        "linear_reg.fit(X_train, y_train)\n",
        "linear_reg_pred = linear_reg.predict(X_test)\n",
        "linear_reg_rmse = mean_squared_error(y_test, linear_reg_pred, squared=False)"
      ],
      "metadata": {
        "id": "QzdSeHVcCuXu"
      },
      "execution_count": 184,
      "outputs": []
    },
    {
      "cell_type": "code",
      "source": [
        "# Lasso Regression\n",
        "lasso_reg = Lasso()\n",
        "lasso_reg.fit(X_train, y_train)\n",
        "lasso_reg_pred = lasso_reg.predict(X_test)\n",
        "lasso_reg_rmse = mean_squared_error(y_test, lasso_reg_pred, squared=False)"
      ],
      "metadata": {
        "id": "RU5g2EysCvw7"
      },
      "execution_count": 185,
      "outputs": []
    },
    {
      "cell_type": "code",
      "source": [
        "# Ridge Regression\n",
        "ridge_reg = Ridge()\n",
        "ridge_reg.fit(X_train, y_train)\n",
        "ridge_reg_pred = ridge_reg.predict(X_test)\n",
        "ridge_reg_rmse = mean_squared_error(y_test, ridge_reg_pred, squared=False)"
      ],
      "metadata": {
        "id": "0M_LIppMC1t_"
      },
      "execution_count": 186,
      "outputs": []
    },
    {
      "cell_type": "code",
      "source": [
        "# Elastic Net\n",
        "elastic_net = ElasticNet()\n",
        "elastic_net.fit(X_train, y_train)\n",
        "elastic_net_pred = elastic_net.predict(X_test)\n",
        "elastic_net_rmse = mean_squared_error(y_test, elastic_net_pred, squared=False)"
      ],
      "metadata": {
        "id": "yKn1BhwvC44n"
      },
      "execution_count": 187,
      "outputs": []
    },
    {
      "cell_type": "code",
      "source": [
        "# Artificial Neural Network (ANN)\n",
        "ann = MLPRegressor(hidden_layer_sizes=(100,), activation='relu', solver='adam', max_iter=1000)\n",
        "ann.fit(X_train, y_train)\n",
        "ann_pred = ann.predict(X_test)\n",
        "ann_rmse = mean_squared_error(y_test, ann_pred, squared=False)"
      ],
      "metadata": {
        "colab": {
          "base_uri": "https://localhost:8080/"
        },
        "id": "qUbDNl-gC759",
        "outputId": "403356f6-344c-40ae-9e07-9195653e87af"
      },
      "execution_count": 188,
      "outputs": [
        {
          "output_type": "stream",
          "name": "stderr",
          "text": [
            "/usr/local/lib/python3.10/dist-packages/sklearn/neural_network/_multilayer_perceptron.py:686: ConvergenceWarning: Stochastic Optimizer: Maximum iterations (1000) reached and the optimization hasn't converged yet.\n",
            "  warnings.warn(\n"
          ]
        }
      ]
    },
    {
      "cell_type": "code",
      "source": [
        "# Compare the performance of different models\n",
        "print(\"Linear Regression RMSE:\", linear_reg_rmse)\n",
        "print(\"Lasso Regression RMSE:\", lasso_reg_rmse)\n",
        "print(\"Ridge Regression RMSE:\", ridge_reg_rmse)\n",
        "print(\"Elastic Net RMSE:\", elastic_net_rmse)\n",
        "print(\"ANN RMSE:\", ann_rmse)"
      ],
      "metadata": {
        "colab": {
          "base_uri": "https://localhost:8080/"
        },
        "id": "89EYJl6GGoSq",
        "outputId": "20d45a71-ccee-468c-ec96-7b3ad59fdce4"
      },
      "execution_count": 189,
      "outputs": [
        {
          "output_type": "stream",
          "name": "stdout",
          "text": [
            "Linear Regression RMSE: 3.7314275959325163\n",
            "Lasso Regression RMSE: 162.614061233634\n",
            "Ridge Regression RMSE: 659.81531770493\n",
            "Elastic Net RMSE: 284429.0421309632\n",
            "ANN RMSE: 217284.5131503161\n"
          ]
        }
      ]
    },
    {
      "cell_type": "code",
      "source": [
        "# Evaluate models using appropriate metrics\n",
        "def evaluate_models(y_true, y_pred, model_name):\n",
        "    mse = mean_squared_error(y_true, y_pred)\n",
        "    rmse = np.sqrt(mse)\n",
        "    r2 = r2_score(y_true, y_pred)\n",
        "    return {'Model': model_name, 'MSE': mse, 'RMSE': rmse, 'R-squared': r2}"
      ],
      "metadata": {
        "id": "8VNlqsrrHZtR"
      },
      "execution_count": 190,
      "outputs": []
    },
    {
      "cell_type": "code",
      "source": [
        "# Calculate evaluation metrics for each model\n",
        "linear_reg_metrics = evaluate_models(y_test, linear_reg_pred, \"Linear Regression\")\n",
        "lasso_reg_metrics = evaluate_models(y_test, lasso_reg_pred, \"Lasso Regression\")\n",
        "ridge_reg_metrics = evaluate_models(y_test, ridge_reg_pred, \"Ridge Regression\")\n",
        "elastic_net_metrics = evaluate_models(y_test, elastic_net_pred, \"Elastic Net\")\n",
        "ann_metrics = evaluate_models(y_test, ann_pred, \"ANN\")"
      ],
      "metadata": {
        "id": "2lnxXtimHeCh"
      },
      "execution_count": 191,
      "outputs": []
    },
    {
      "cell_type": "code",
      "source": [
        "# Combine metrics into a list\n",
        "all_metrics = [linear_reg_metrics, lasso_reg_metrics, ridge_reg_metrics, elastic_net_metrics, ann_metrics]\n"
      ],
      "metadata": {
        "id": "TSjCjivpHjLC"
      },
      "execution_count": 192,
      "outputs": []
    },
    {
      "cell_type": "code",
      "source": [
        "# Create visualizations to compare the performance of the different models\n",
        "metrics_df = pd.DataFrame(all_metrics)\n",
        "plt.figure(figsize=(10, 6))\n",
        "plt.bar(metrics_df['Model'], metrics_df['MSE'], color='skyblue')\n",
        "plt.title('Mean Squared Error (MSE) of Different Models')\n",
        "plt.xlabel('Models')\n",
        "plt.ylabel('MSE')\n",
        "plt.xticks(rotation=45)\n",
        "plt.show()\n",
        "\n",
        "plt.figure(figsize=(10, 6))\n",
        "plt.bar(metrics_df['Model'], metrics_df['R-squared'], color='salmon')\n",
        "plt.title('R-squared of Different Models')\n",
        "plt.xlabel('Models')\n",
        "plt.ylabel('R-squared')\n",
        "plt.xticks(rotation=45)\n",
        "plt.show()\n"
      ],
      "metadata": {
        "colab": {
          "base_uri": "https://localhost:8080/",
          "height": 1000
        },
        "id": "8fB1Ki7zHnu1",
        "outputId": "a66b26ee-5cb0-453a-aee2-eeb67091a3e4"
      },
      "execution_count": 193,
      "outputs": [
        {
          "output_type": "display_data",
          "data": {
            "text/plain": [
              "<Figure size 1000x600 with 1 Axes>"
            ],
            "image/png": "[encoded data removed]"
          },
          "metadata": {}
        },
        {
          "output_type": "display_data",
          "data": {
            "text/plain": [
              "<Figure size 1000x600 with 1 Axes>"
            ],
            "image/png": "[encoded data removed]"
          },
          "metadata": {}
        }
      ]
    },
    {
      "cell_type": "code",
      "source": [
        "import matplotlib.pyplot as plt\n",
        "import numpy as np\n",
        "\n",
        "# Assuming 'all_metrics' is a dictionary containing your models and their MSE values\n",
        "metrics_df = pd.DataFrame(all_metrics)\n",
        "\n",
        "plt.figure(figsize=(10, 6))\n",
        "plt.bar(metrics_df['Model'], np.log(metrics_df['MSE']), color='skyblue')  # Apply np.log to 'metrics_df['MSE']'\n",
        "plt.title('Log of Mean Squared Error (MSE) of Different Models')\n",
        "plt.xlabel('Models')\n",
        "plt.ylabel('Log of MSE')  # Change label to 'Log of MSE'\n",
        "plt.xticks(rotation=45)\n",
        "plt.show()\n"
      ],
      "metadata": {
        "colab": {
          "base_uri": "https://localhost:8080/",
          "height": 647
        },
        "id": "Ct8KMKNpV73F",
        "outputId": "c2c4e54c-832a-4ec6-ace0-3282b6a209ca"
      },
      "execution_count": 194,
      "outputs": [
        {
          "output_type": "display_data",
          "data": {
            "text/plain": [
              "<Figure size 1000x600 with 1 Axes>"
            ],
            "image/png": "[encoded data removed]"
          },
          "metadata": {}
        }
      ]
    },
    {
      "cell_type": "code",
      "source": [
        "# Calculate and print the accuracy of predictions for each model\n",
        "print(\"Accuracy of Predictions:\")\n",
        "print(\"Linear Regression R-squared:\", r2_score(y_test, linear_reg_pred))\n",
        "print(\"Lasso Regression R-squared:\", r2_score(y_test, lasso_reg_pred))\n",
        "print(\"Ridge Regression R-squared:\", r2_score(y_test, ridge_reg_pred))\n",
        "print(\"Elastic Net R-squared:\", r2_score(y_test, elastic_net_pred))\n",
        "print(\"ANN R-squared:\", r2_score(y_test, ann_pred))\n"
      ],
      "metadata": {
        "colab": {
          "base_uri": "https://localhost:8080/"
        },
        "id": "B6KbCCZxayON",
        "outputId": "1146cb50-f476-48dc-e1ea-8fc24862c8a5"
      },
      "execution_count": 195,
      "outputs": [
        {
          "output_type": "stream",
          "name": "stdout",
          "text": [
            "Accuracy of Predictions:\n",
            "Linear Regression R-squared: 0.9999999999865142\n",
            "Lasso Regression R-squared: 0.9999999743881695\n",
            "Ridge Regression R-squared: 0.9999995783333879\n",
            "Elastic Net R-squared: 0.9216439914557761\n",
            "ANN R-squared: 0.9542720245397788\n"
          ]
        }
      ]
    },
    {
      "cell_type": "code",
      "source": [
        "# Model Selection: Choose the best-performing model based on the evaluation metrics\n",
        "best_model = metrics_df.loc[metrics_df['MSE'].idxmin()]\n",
        "print(\"Best-performing model based on MSE:\")\n",
        "print(best_model)"
      ],
      "metadata": {
        "colab": {
          "base_uri": "https://localhost:8080/"
        },
        "id": "6HS1KUc3Hv5-",
        "outputId": "564f0f10-6326-41a2-db12-b5f13755753e"
      },
      "execution_count": 196,
      "outputs": [
        {
          "output_type": "stream",
          "name": "stdout",
          "text": [
            "Best-performing model based on MSE:\n",
            "Model        Linear Regression\n",
            "MSE                  13.923552\n",
            "RMSE                  3.731428\n",
            "R-squared                  1.0\n",
            "Name: 0, dtype: object\n"
          ]
        }
      ]
    },
    {
      "cell_type": "code",
      "source": [
        "# Another way to select the best-performing model is based on R-squared\n",
        "best_model_r2 = metrics_df.loc[metrics_df['R-squared'].idxmax()]\n",
        "print(\"\\nBest-performing model based on R-squared:\")\n",
        "print(best_model_r2)"
      ],
      "metadata": {
        "colab": {
          "base_uri": "https://localhost:8080/"
        },
        "id": "7cZxuJUkH2ZV",
        "outputId": "dacb4bd7-1643-42ab-ebfa-c4fd45891e88"
      },
      "execution_count": 197,
      "outputs": [
        {
          "output_type": "stream",
          "name": "stdout",
          "text": [
            "\n",
            "Best-performing model based on R-squared:\n",
            "Model        Linear Regression\n",
            "MSE                  13.923552\n",
            "RMSE                  3.731428\n",
            "R-squared                  1.0\n",
            "Name: 0, dtype: object\n"
          ]
        }
      ]
    },
    {
      "cell_type": "code",
      "source": [
        "# Save the best-performing model as a pickle file\n",
        "best_model = metrics_df.loc[metrics_df['MSE'].idxmin()]['Model']\n",
        "if best_model == \"Linear Regression\":\n",
        "    pickle.dump(linear_reg, open(\"best_model.pkl\", \"wb\"))\n",
        "elif best_model == \"Lasso Regression\":\n",
        "    pickle.dump(lasso_reg, open(\"best_model.pkl\", \"wb\"))\n",
        "elif best_model == \"Ridge Regression\":\n",
        "    pickle.dump(ridge_reg, open(\"best_model.pkl\", \"wb\"))\n",
        "elif best_model == \"Elastic Net\":\n",
        "    pickle.dump(elastic_net, open(\"best_model.pkl\", \"wb\"))\n",
        "elif best_model == \"ANN\":\n",
        "    pickle.dump(ann, open(\"best_model.pkl\", \"wb\"))"
      ],
      "metadata": {
        "id": "491cc290Xvok"
      },
      "execution_count": 198,
      "outputs": []
    },
    {
      "cell_type": "code",
      "source": [
        "# Load the best-performing model from the pickle file\n",
        "best_model_loaded = pickle.load(open(\"best_model.pkl\", \"rb\"))"
      ],
      "metadata": {
        "id": "QcQTOIKcX3V0"
      },
      "execution_count": 199,
      "outputs": []
    },
    {
      "cell_type": "code",
      "source": [
        "print(best_model_loaded)"
      ],
      "metadata": {
        "colab": {
          "base_uri": "https://localhost:8080/"
        },
        "id": "FSHKkvEtYhEn",
        "outputId": "08f9b369-a7d2-40d3-b001-1b0f654d2928"
      },
      "execution_count": 200,
      "outputs": [
        {
          "output_type": "stream",
          "name": "stdout",
          "text": [
            "LinearRegression()\n"
          ]
        }
      ]
    },
    {
      "cell_type": "code",
      "source": [
        "best_model_loaded.predict(X_test)"
      ],
      "metadata": {
        "colab": {
          "base_uri": "https://localhost:8080/"
        },
        "id": "h5b1Hq5FbthN",
        "outputId": "9b193c3c-09e1-4d58-bce3-66a374c8303d"
      },
      "execution_count": 201,
      "outputs": [
        {
          "output_type": "execute_result",
          "data": {
            "text/plain": [
              "array([2199000.86680643,  929002.40220167, 2299797.48956382, ...,\n",
              "        284004.19354129, 1698997.16056965, 1698998.64662285])"
            ]
          },
          "metadata": {},
          "execution_count": 201
        }
      ]
    },
    {
      "cell_type": "code",
      "source": [
        "# Use the selected model to make predictions on the new dataset\n",
        "predictions_new = best_model_loaded.predict(X_test_new)"
      ],
      "metadata": {
        "id": "VZJyrKNnpI1C"
      },
      "execution_count": 202,
      "outputs": []
    },
    {
      "cell_type": "code",
      "source": [
        "# Filter indices that are present in X_test_indices but not in new_data_indices\n",
        "test_indices_to_keep = [index for index in X_test_indices if index not in new_data_indices]\n",
        "\n",
        "# Check if test_indices_to_keep is not empty\n",
        "if test_indices_to_keep:\n",
        "    # Filter y_test and predictions_new based on the filtered indices\n",
        "    y_test_new = y_test.iloc[test_indices_to_keep]\n",
        "    predictions_new = predictions_new[:len(y_test_new)]\n",
        "\n",
        "    # Evaluate the model's performance on the unknown data using appropriate metrics\n",
        "    mse_new = mean_squared_error(y_test_new, predictions_new)\n",
        "    rmse_new = np.sqrt(mse_new)\n",
        "    r2_new = r2_score(y_test_new, predictions_new)\n",
        "\n",
        "    print(\"Performance on Unknown Data:\")\n",
        "    print(\"MSE:\", mse_new)\n",
        "    print(\"RMSE:\", rmse_new)\n",
        "    print(\"R-squared:\", r2_new)\n",
        "else:\n",
        "    print(\"No test indices to evaluate. Ensure that the test dataset and new dataset are different.\")"
      ],
      "metadata": {
        "colab": {
          "base_uri": "https://localhost:8080/"
        },
        "id": "6nTLCucMy3ig",
        "outputId": "50b2e723-e345-4c9c-8508-6224fa4da11e"
      },
      "execution_count": 221,
      "outputs": [
        {
          "output_type": "stream",
          "name": "stdout",
          "text": [
            "Performance on Unknown Data:\n",
            "MSE: 14.604629788549083\n",
            "RMSE: 3.8216004224080105\n",
            "R-squared: 0.999999999985637\n"
          ]
        }
      ]
    }
  ]
}